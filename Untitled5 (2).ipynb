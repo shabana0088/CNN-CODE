{
  "nbformat": 4,
  "nbformat_minor": 0,
  "metadata": {
    "colab": {
      "provenance": []
    },
    "kernelspec": {
      "name": "python3",
      "display_name": "Python 3"
    },
    "language_info": {
      "name": "python"
    }
  },
  "cells": [
    {
      "cell_type": "code",
      "source": [
        "import torch\n",
        "import torch.nn as nn\n",
        "import torch.optim as optim\n",
        "\n",
        "# Define the neural network class\n",
        "class NeuralNetwork(nn.Module):\n",
        "    def __init__(self):\n",
        "        super(NeuralNetwork, self).__init__()\n",
        "\n",
        "        # 3 input features, 1 hidden neuron\n",
        "        self.hidden_layer = nn.Linear(3, 1)\n",
        "\n",
        "        # 1 hidden neuron, 1 output neuron\n",
        "        self.output_layer = nn.Linear(1, 1)\n",
        "\n",
        "        # Activation function\n",
        "        self.activation = nn.Tanh()\n",
        "\n",
        "        # Initialize weights randomly in the range [-0.5, 0.5]\n",
        "        nn.init.uniform_(self.hidden_layer.weight, -0.5, 0.5)\n",
        "        nn.init.uniform_(self.output_layer.weight, -0.5, 0.5)\n",
        "\n",
        "        # Set biases\n",
        "        self.hidden_layer.bias.data.fill_(0.5)\n",
        "        self.output_layer.bias.data.fill_(0.7)\n",
        "\n",
        "    def forward(self, x):\n",
        "        hidden_output = self.activation(self.hidden_layer(x))\n",
        "        final_output = self.activation(self.output_layer(hidden_output))\n",
        "        return final_output\n",
        "\n",
        "# Create an instance of the neural network\n",
        "model = NeuralNetwork()\n",
        "\n",
        "# Example input features (you can replace with your own data)\n",
        "input_features = torch.tensor([[0.2, 0.4, 0.6]], dtype=torch.float32)\n",
        "\n",
        "# Compute the output of the network\n",
        "output = model(input_features)\n",
        "\n",
        "# Print the output\n",
        "print(\"Output of the network:\", output.item())\n"
      ],
      "metadata": {
        "colab": {
          "base_uri": "https://localhost:8080/"
        },
        "id": "bdlWtR_zrC83",
        "outputId": "00e4dc8c-c8f0-4d82-defc-1e8fd6946607"
      },
      "execution_count": 3,
      "outputs": [
        {
          "output_type": "stream",
          "name": "stdout",
          "text": [
            "Output of the network: 0.5983893871307373\n"
          ]
        }
      ]
    },
    {
      "cell_type": "code",
      "source": [
        "import torch\n",
        "import torch.nn as nn\n",
        "import torch.nn.functional as F\n",
        "\n",
        "# Define the neural network\n",
        "class NeuralNetwork(nn.Module):\n",
        "    def __init__(self):\n",
        "        super(NeuralNetwork, self).__init__()\n",
        "        self.hidden_layer = nn.Linear(2, 3)\n",
        "        self.output_layer = nn.Linear(3, 1)\n",
        "        self.activation = nn.Tanh()\n",
        "        # يمكن استخدام torch.tensor لتحديد bias مخصص\n",
        "        self.b1 = torch.tensor(0.5)  # مثال: 0.5 كبايس أول\n",
        "        self.b2 = torch.tensor(0.7)  # البايس الثاني\n",
        "\n",
        "    def forward(self, x):\n",
        "        x = self.activation(self.hidden_layer(x) + self.b1)\n",
        "        x = self.activation(self.output_layer(x) + self.b2)\n",
        "        return x\n",
        "\n",
        "# Create an instance of the neural network\n",
        "model = NeuralNetwork()\n",
        "\n",
        "# Test the neural network with sample input\n",
        "input_data = torch.tensor([[1., 2.]])\n",
        "output = model(input_data)\n",
        "\n",
        "print(output)"
      ],
      "metadata": {
        "id": "eBm5_nNPrKtu",
        "outputId": "bea3992e-0f6b-4abc-872d-e645341b2e69",
        "colab": {
          "base_uri": "https://localhost:8080/"
        }
      },
      "execution_count": 4,
      "outputs": [
        {
          "output_type": "stream",
          "name": "stdout",
          "text": [
            "tensor([[0.0960]], grad_fn=<TanhBackward0>)\n"
          ]
        }
      ]
    }
  ]
}